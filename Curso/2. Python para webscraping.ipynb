{
 "cells": [
  {
   "cell_type": "markdown",
   "metadata": {},
   "source": [
    "# Python para web scraping\n",
    "\n",
    "Tenemos una idea general de lo que es el web scraping, cuáles son las tecnologías básicas y su estructura.\n",
    "\n",
    "Para hacer web scraping necesitamos herramientas y técnicas, Python resulta adecuado debido a su facilidad para aprender y porque tiene un gran número de bibliotecas para comunicarse con el World Wide Web, procesos relacionados a datos y, finalmente, para hacer web scraping.\n",
    "\n",
    "Especificamente, utilizaremos las bibliotecas `requests` y `urllib`. \n",
    "\n",
    "## `requests`\n",
    "\n",
    "Es una biblioteca de Python basada en HTTP, lanzada en 2011 y sigue siendo una de las más reconocidas entre desarrolladores. \n",
    "\n",
    "Respecto a otras librerías HTTP en Python, `requests` es apreciada porque es de fácil lectura, amigable con el desarrollador y con atributos sencillos de utilizar.\n",
    "\n",
    "### Primeros pasos\n",
    "\n",
    "Veamos cómo funciona. Primero importamos `requests`."
   ]
  }
 ],
 "metadata": {
  "language_info": {
   "name": "python"
  }
 },
 "nbformat": 4,
 "nbformat_minor": 2
}
